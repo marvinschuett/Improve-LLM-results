{
 "cells": [
  {
   "cell_type": "markdown",
   "id": "27477f64",
   "metadata": {},
   "source": [
    "## Getting the best out of LLMs\n",
    "\n",
    "\n",
    "\n",
    "\n",
    "\n"
   ]
  },
  {
   "cell_type": "markdown",
   "id": "59934c14",
   "metadata": {},
   "source": [
    "It is assumed that Ollama is installed and running.\n",
    "If not, download from here: https://ollama.com/\n",
    "and follow the instructions to get it running here https://github.com/ollama/ollama \n",
    "\n",
    "Make sure to pull the models Gemma3:1b, llama3.1:8b, Mistral:7b in the terminal using \"ollama pull\""
   ]
  },
  {
   "cell_type": "code",
   "execution_count": 2,
   "id": "a22cef11",
   "metadata": {},
   "outputs": [],
   "source": [
    "# %pip install ollama\n",
    "from ollama import chat\n",
    "from ollama import embeddings\n",
    "from IPython.display import Markdown\n",
    "\n",
    "deterministic_content = 'What is 1000*55?'\n",
    "ambiguous_content = 'Who is the most powerful character in Star Wars?'\n",
    "complex_content = 'Do wind turbines influence residential property values?'"
   ]
  },
  {
   "cell_type": "markdown",
   "id": "6e14dbdc",
   "metadata": {},
   "source": [
    "Starting with the simplest LLM gemma3:1b"
   ]
  },
  {
   "cell_type": "code",
   "execution_count": 22,
   "id": "455f3eb5",
   "metadata": {},
   "outputs": [],
   "source": [
    "# Example of a simple question\n",
    "response_easy = chat(model='gemma3:1b', messages=[\n",
    "  {    'role': 'user', 'content': deterministic_content, }])\n",
    "\n",
    "# Example of an ambiguous question\n",
    "response_ambiguous = chat(model='gemma3:1b', messages=[\n",
    "  {    'role': 'user', 'content': ambiguous_content, },])\n",
    "# Example of a complex question\n",
    "response_complex = chat(model='gemma3:1b', messages=[\n",
    "    {   'role': 'user', 'content': complex_content,}])\n"
   ]
  },
  {
   "cell_type": "code",
   "execution_count": null,
   "id": "fee6e588",
   "metadata": {},
   "outputs": [
    {
     "data": {
      "text/markdown": [
       "1000 * 55 = 55000\n",
       "\n",
       "So the answer is 55000.\n"
      ],
      "text/plain": [
       "<IPython.core.display.Markdown object>"
      ]
     },
     "metadata": {},
     "output_type": "display_data"
    }
   ],
   "source": [
    "display(Markdown(response_easy.message.content))"
   ]
  },
  {
   "cell_type": "code",
   "execution_count": null,
   "id": "8552f7d4",
   "metadata": {},
   "outputs": [
    {
     "data": {
      "text/markdown": [
       "Okay, this is a *highly* debated question in the Star Wars community, and there's no definitive answer! However, the consensus leans heavily towards **Darth Plagueis**. \n",
       "\n",
       "Here's a breakdown of why, and why it's such a complex question:\n",
       "\n",
       "**Arguments for Darth Plagueis as the Most Powerful:**\n",
       "\n",
       "* **Temporal Manipulation:** This is *the* defining aspect of Plagueis's power. He fundamentally altered the flow of time, allowing him to manipulate the destinies of countless individuals. He could erase, shift, and even completely rewrite events.  This is arguably his greatest strength.\n",
       "* **Ruthless Planning & Control:**  Plagueis wasn't driven by passion, but by a cold, calculating, and supremely powerful desire for control. He meticulously planned everything – the creation of Luke, the manipulation of the Jedi, and the endless cycle of suffering he inflicted.\n",
       "* **Longevity & Vast Knowledge:** He lived for millennia, accumulating an unparalleled understanding of the Force, history, and the manipulation of individuals. This extended his power exponentially.\n",
       "* **The \"Great Cycle\":**  His actions created a self-perpetuating cycle of suffering and destiny. He essentially trapped countless people in a loop of misfortune. This level of control is unmatched.\n",
       "\n",
       "**Why Other Characters Are Considered Powerful (but not *quite* as powerful as Plagueis):**\n",
       "\n",
       "* **Luke Skywalker:**  His connection to the Force and his potential are immense. However, his power is more tied to his own destiny – a potential for immense power is his core.\n",
       "* **Anakin Skywalker:**  He possessed the greatest potential in the saga.  However, his power was ultimately diminished by his own inherent flaws and the Force's influence.\n",
       "* **The Jedi Order:**  They wielded significant Force powers, but their strength was ultimately tied to their training, discipline, and the Jedi's connection to the Force. They were vulnerable to Plagueis's manipulation.\n",
       "* **Palpatine (Dark Side):** He held immense political and military power, but his power was derived from manipulation, deception, and a deep understanding of the Force. He lacked Plagueis's ability to fundamentally alter the past.\n",
       "\n",
       "\n",
       "**Why Plagueis is Considered the Top Tier:**\n",
       "\n",
       "The core of his power lies in his ability to *influence* the past, creating alternate timelines and shaping destiny through his actions. This is a fundamentally more powerful and impactful ability than most other characters possess.\n",
       "\n",
       "**It’s Important to Note:**\n",
       "\n",
       "* **The Force is Fluid:** The Force is a complex and ever-shifting phenomenon.  Its influence is constantly changing.\n",
       "* **The Debate Continues:**  There's a genuine debate amongst Star Wars fans about exactly *how* powerful Plagueis is, and whether other characters have moments of significant impact.\n",
       "\n",
       "**Resources to Explore:**\n",
       "\n",
       "* **Star Wars Wiki - Darth Plagueis:** [https://starwars.fandom.com/wiki/Darth_Plagueis](https://starwars.fandom.com/wiki/Darth_Plagueis)\n",
       "* **Reddit - Star Wars - Who's the Most Powerful?** [https://www.reddit.com/r/StarWars/comments/8xq0p6/who%27s%20the%20most%20powerful/](https://www.reddit.com/r/StarWars/comments/8xq0p6/who%27s%20the%20most%20powerful/)\n",
       "\n",
       "\n",
       "Ultimately, while other characters are incredibly significant, **Darth Plagueis’s ability to manipulate the past and fundamentally alter the destinies of countless individuals makes him, in my opinion, the most powerful character in Star Wars.**\n",
       "\n",
       "Do you want to delve deeper into any specific aspect of his power, like his methods of manipulation or the impact of his \"Great Cycle\"?"
      ],
      "text/plain": [
       "<IPython.core.display.Markdown object>"
      ]
     },
     "metadata": {},
     "output_type": "display_data"
    }
   ],
   "source": [
    "display(Markdown(response_ambiguous.message.content))"
   ]
  },
  {
   "cell_type": "code",
   "execution_count": 23,
   "id": "c7464d03",
   "metadata": {},
   "outputs": [
    {
     "data": {
      "text/markdown": [
       "Okay, this is a really interesting and increasingly researched question! The relationship between wind turbine development and residential property values is complex and still being studied, but the current evidence suggests a **generally positive, though not always dramatic, impact**. Here's a breakdown of what the research shows:\n",
       "\n",
       "**1. Generally Positive, But Not Always a Straightforward Correlation:**\n",
       "\n",
       "* **Numerous Studies Show a Small to Moderate Increase:** The vast majority of studies (around 70-80%) suggest that wind turbine development *does* lead to a small, but statistically significant, increase in residential property values in the surrounding area. This increase is often cited as being in the range of 2-5% for a significant number of properties.\n",
       "* **More Positive in Specific Areas:** The effect is particularly strong in areas with higher average wind speeds, established residential areas, and a robust local tourism industry.\n",
       "\n",
       "**2. How the Increase Happens – The Mechanisms:**\n",
       "\n",
       "* **Increased Land Value:** Wind turbines increase the overall value of the land surrounding the turbines. This is a primary driver of the effect.\n",
       "* **Enhanced Aesthetics:**  Wind turbines can be viewed as a natural and attractive feature, contributing to the overall visual appeal of the neighborhood.  They can be seen as a 'modern' element.\n",
       "* **Increased Property Tax Revenue:**  Higher property values lead to higher property taxes, which can benefit homeowners.\n",
       "* **Increased Demand:** Some studies suggest that wind farms can attract new residents, increasing demand for housing in the area.\n",
       "* **Reduced 'Neighborhood Effect':** Wind farms can disrupt the established character of a neighborhood, leading to a perceived decrease in property value.  The turbines can partially obscure views and reduce the \"sense of place.\"\n",
       "* **Ripple Effect:**  The increased property values can lead to increased investment in local infrastructure, leading to further economic benefits.\n",
       "\n",
       "\n",
       "**3. Factors Influencing the Impact:**\n",
       "\n",
       "* **Wind Resource:** This is *the* most important factor.  Areas with consistently strong and predictable wind are more likely to see a positive impact.\n",
       "* **Turbine Density & Layout:**  The number of turbines, their height, and their arrangement have a significant impact.  Well-placed turbines that minimize visual impact are better.\n",
       "* **Neighborhood Characteristics:**  The existing character of the neighborhood (e.g., historic architecture, low-density development) can influence the impact.\n",
       "* **Local Regulations & Planning:** Zoning regulations, permitting processes, and community engagement play a critical role.\n",
       "* **Timeframe:**  The effects are typically seen over a period of 5-10 years, as it takes time for changes in land value to fully materialize.\n",
       "\n",
       "\n",
       "**4. Research Findings - Key Studies:**\n",
       "\n",
       "* **National Renewable Energy Laboratory (NREL) Studies:** NREL has conducted numerous studies examining the economic impacts of wind energy, and many of these studies have shown a positive correlation with property values.\n",
       "* **University of Washington Research:** A recent study found that wind farms can have a positive impact on property values, particularly in areas with high wind potential.\n",
       "* **Various Local Studies:** Numerous smaller studies across different states and regions have confirmed these findings.\n",
       "\n",
       "**5. Important Caveats & Considerations:**\n",
       "\n",
       "* **Correlation vs. Causation:**  While studies show a *correlation* between wind farms and property values, it's difficult to prove a *causal* relationship. It's likely that other factors are at play.\n",
       "* **Uncertainty about Long-Term Effects:**  The long-term effects of wind farms on property values are still being researched.\n",
       "* **Potential Negative Impacts:** Some research suggests a potential for *decreased* property values in very specific areas (e.g., near noise pollution or visual blight).\n",
       "\n",
       "\n",
       "**Resources for Further Research:**\n",
       "\n",
       "* **National Renewable Energy Laboratory (NREL):** [https://www.nrel.gov/](https://www.nrel.gov/) - Search for \"wind turbine economic impacts\"\n",
       "* **Investopedia - Wind Turbines:** [https://www.investopedia.com/terms/w/windturbine.asp](https://www.investopedia.com/terms/w/windturbine.asp)\n",
       "* **Real Estate Journal:** [https://www.therealestatejournal.com/](https://www.therealestatejournal.com/) - Search for articles on wind energy and property values.\n",
       "\n",
       "**Disclaimer:** *I am an AI Chatbot and not a real estate expert. This information is for general knowledge and informational purposes only, and does not constitute advice. It is essential to consult with qualified professionals for specific real estate and financial advice.*\n",
       "\n",
       "---\n",
       "\n",
       "To help me give you an even *more* tailored response, could you tell me:\n",
       "\n",
       "*   **What region or area are you interested in?** (e.g., a specific state, country, or city)\n",
       "*   **What specifically are you curious about regarding wind turbine impact on residential property values?** (e.g., are you interested in long-term vs. short-term effects, specific types of turbines, or a particular geographic area?)"
      ],
      "text/plain": [
       "<IPython.core.display.Markdown object>"
      ]
     },
     "metadata": {},
     "output_type": "display_data"
    }
   ],
   "source": [
    "display(Markdown(response_complex.message.content))"
   ]
  },
  {
   "cell_type": "markdown",
   "id": "00920aa5",
   "metadata": {},
   "source": [
    "#### Preliminary Findings\n",
    "For the simple task, the answer was straightforward and short. Nothing else was expected.\n",
    "\n",
    "For the medium task, we see some ambiguity in the answer. This is of course by design --> what is 'Powerful'?\n",
    "The answer is also quite lenghty, not necessarily what one was expecting. This could require changes to the prompt, if so wished.\n",
    "\n",
    "For the complex task, the LLM lists some fitting factors that influence the effect of wind turbines on property values (distance, noise, visual impact) but hallucinates terribly \n",
    "a) when it comes to the exact numbers (stating a small increase of 2% to 5% on average), \n",
    "b) with regard to the studies cited (non existing), and\n",
    "c) the links provided (not working).\n",
    "\n",
    "\n",
    "#### In conclusion, for the medium task changes to the prompt could be in line. For the complex task, changes are clearly needed since the answer is wrong.\n",
    "\n",
    "Let's give the LLM a scientific article on the topic and ask it to answer only with the help of this. "
   ]
  },
  {
   "cell_type": "code",
   "execution_count": null,
   "id": "f193e577",
   "metadata": {},
   "outputs": [
    {
     "data": {
      "text/markdown": [
       "**Luke Skywalker**\n",
       "\n",
       "Here’s why Luke Skywalker is arguably the most powerful character in Star Wars, with three reasons:\n",
       "\n",
       "*   **Mastery of Force & Strategic Brilliance:** Luke’s understanding and control of the Force is unparalleled. He isn’t just a skilled Jedi; he’s a *master* of the Force, capable of manipulating it to incredible levels - creating Force pushes, illusions, precognition, and even manipulating the flow of energy. This surpasses even the most powerful Jedi Masters like Yoda and Mace Windu.\n",
       "\n",
       "*   **Legacy of Creation & Potential:** Luke’s connection to the Force through his lineage allows him to subtly influence events, guiding individuals and even entire civilizations towards a brighter future. His ability to subtly alter events - like preventing the assassination of his father - demonstrates a level of foresight and potential that few characters achieve.\n",
       "\n",
       "*   **Unwavering Resolve & Sacrifice:** Luke consistently demonstrates immense resilience and an unwavering dedication to his goals, even in the face of overwhelming odds. His willingness to sacrifice himself – especially to defeat Darth Vader – highlights his profound impact and a level of power born not just from skill, but from an exceptional commitment to balance and righteousness. \n",
       "\n",
       "\n",
       "While characters like Darth Vader and Palpatine possess immense power, Luke’s impact is more fundamental. He *inspired* change and represents a greater potential for good, making him a uniquely powerful figure within the Star Wars saga."
      ],
      "text/plain": [
       "<IPython.core.display.Markdown object>"
      ]
     },
     "metadata": {},
     "output_type": "display_data"
    }
   ],
   "source": [
    "ambiguous_engineerd =\"Select from Sith Lords and Jedi Masters. The answer should be a single name, followed by three bullet points that explain the reasoning behind the choice. The answer should be based on the character's abilities, achievements, and impact on the Star Wars universe. \"\n",
    "\n",
    "# Example of an ambiguous question\n",
    "response_ambiguous_engineered = chat(model='gemma3:1b', messages=[\n",
    "  {    'role': 'user', 'content': ambiguous_content + ambiguous_engineerd, },])\n",
    "\n",
    "display(Markdown(response_ambiguous_engineered.message.content))"
   ]
  },
  {
   "cell_type": "markdown",
   "id": "eb2f446b",
   "metadata": {},
   "source": [
    "### Satisfactory result\n",
    "### Now turning to the complex task."
   ]
  },
  {
   "cell_type": "code",
   "execution_count": null,
   "id": "54146703",
   "metadata": {},
   "outputs": [
    {
     "data": {
      "text/markdown": [
       "Alright, let’s address the complex relationship between wind turbines and residential property values. The evidence suggests a nuanced, and often modest, influence – a *small, but statistically significant* positive effect, primarily in the range of **0.5% to 2%** across a range of geographic locations and time periods.  This impact isn't a dramatic, universally positive shift, but rather a gentle augmentation of value, predominantly concentrated in areas with favorable wind conditions and strong local demand for housing.\n",
       "\n",
       "Here’s a breakdown of the key influencing factors, drawing upon empirical research and economic principles:\n",
       "\n",
       "*   **Proximity to Existing Development:** Wind turbines tend to have a stronger positive effect in areas already characterized by a higher density of residential properties, particularly those with a significant presence of older, established homes.  This is because wind energy infrastructure often facilitates the expansion of existing neighborhoods, creating a ripple effect that benefits surrounding properties. The distance at which this effect manifests is generally proportional to the existing density – the larger the existing development, the more pronounced the impact.\n",
       "\n",
       "*   **Land Use Compatibility & Zoning:** The impact is demonstrably influenced by zoning regulations.  Wind farms located in areas with established residential zoning – particularly those with restrictions on building height or density – experience a greater positive effect than those in areas with more open land use.  Zoning regulations often act as a buffer, protecting residential values. The area at which this effect occurs is closely linked to the consistency of zoning laws and the overall desirability of the surrounding neighborhood.\n",
       "\n",
       "*   **Local Housing Demand & Market Confidence:**  A significant component of the effect is correlated with local demand for housing. Areas with strong, stable demand, driven by factors like job growth, low interest rates, and attractive amenities, tend to see a more pronounced positive impact on property values.  Conversely, areas experiencing economic uncertainty or declining demand will see a less substantial effect. The impact is generally strongest within communities that have been actively developing new residential areas.\n",
       "\n",
       "It’s important to note that these factors are interconnected and often reinforce each other. A combination of factors – high density, good zoning, and existing market conditions – collectively contributes to this, rather than a single variable being solely responsible. Furthermore, the effect can vary significantly across different types of wind turbine installations (e.g., smaller turbines vs. larger, more complex farms) and the characteristics of the surrounding landscape.\n",
       "\n",
       "---\n",
       "\n",
       "Do you want me to delve deeper into a specific aspect of this relationship, perhaps exploring potential mediating factors or examining case studies in a particular region?"
      ],
      "text/plain": [
       "<IPython.core.display.Markdown object>"
      ]
     },
     "metadata": {},
     "output_type": "display_data"
    }
   ],
   "source": [
    "complex_engineered = \"\"\"\n",
    "# Instructions: \n",
    "\n",
    "Answer as a professor of economics. The answer should be based on empirical evidence and economic theory.\n",
    "If you do not know the answer, say 'I don't know'. Do not hallucinate.\n",
    "\n",
    " # Answer format: \n",
    " If you give an answer, the answer should begin with a short sentence summarizing the mean effect\n",
    "  in percent and the distance at which this mean effect occurs. \n",
    "  This is followed by three bullet points that highlight the main influencing factors. \n",
    "  \"\"\"\n",
    "\n",
    "# Extending the complex  question\n",
    "response_complex_engineered = chat(model='gemma3:1b', messages=[\n",
    "  {    'role': 'user', 'content': complex_content + complex_engineered, },])\n",
    "\n",
    "display(Markdown(response_complex_engineered.message.content))"
   ]
  },
  {
   "cell_type": "code",
   "execution_count": 4,
   "id": "e0b501fd",
   "metadata": {},
   "outputs": [
    {
     "data": {
      "text/markdown": [
       "Okay, let's dive into the complex and increasingly researched relationship between wind turbines and residential property values. It's a topic with a growing amount of evidence, and the picture isn't straightforward – it's nuanced and heavily dependent on location, the specific turbine deployment, and other local factors. Here’s a breakdown of the empirical evidence, synthesized from peer-reviewed studies and meta-analyses, focusing on what’s generally understood:\n",
       "\n",
       "**1. Generally Observed Trends – A Mixed Picture**\n",
       "\n",
       "* **Negative Correlation (Most Consistent Finding):** The prevailing consensus amongst researchers, particularly through meta-analyses, is that **there’s a statistically significant, though often modest, negative correlation between wind turbine density and residential property values.** This doesn't mean *all* properties decrease in value; it means that properties located *near* wind farms tend to have *lower* values.\n",
       "\n",
       "* **Magnitude of the Effect:** This correlation is typically estimated to be in the range of **0.5 to 1.2 units per kW of installed wind capacity**. This means for every kW of turbines installed, property values can be reduced by 0.5 to 1.2 units per kW.\n",
       "\n",
       "**2. Evidence from Empirical Studies – Key Publications & Research**\n",
       "\n",
       "Here are some particularly influential studies and meta-analyses that shed light on this issue:\n",
       "\n",
       "* **“Impact of Wind Energy on Housing Values: Evidence from a Panel of US Counties” (2013) by Robert M. Slay:** This is one of the foundational studies. Slay's research examined the effects of wind energy development across several U.S. counties and found a statistically significant, small negative relationship.\n",
       "* **“Residential Property Value Effects of Wind Energy Development” (2017) by Jessica M. Scherer and Robert A. Miller:** This study analyzed data from several states and demonstrated a consistent trend – properties near wind farms experienced a slightly reduced value compared to those further away.  They also found that the effect was stronger in areas with higher residential density.\n",
       "* **\"The Effect of Wind Farms on Housing Values: Evidence from California\" (2018) by John C. Lee and Paul A. C. Thompson:** This work used a robust econometric model to assess the impact of wind farm density on housing values in California, solidifying the finding of a negative correlation.\n",
       "* **“Wind Farms and Housing Values: A Meta-Analysis” (2021) by Benjamin R. Hayes and Jonathan C. Cooper:** This comprehensive meta-analysis synthesized findings from multiple studies, strengthening the conclusion that there is a statistically significant, though moderate, negative correlation. It acknowledged variations in the methodologies used, but generally agreed that the overall evidence supports a real effect.\n",
       "\n",
       "\n",
       "**3. Mechanisms Behind the Observed Effect – What’s Being Explored**\n",
       "\n",
       "Researchers have identified several potential mechanisms that contribute to this relationship:\n",
       "\n",
       "* **Increased Land Values:** Wind turbines themselves have a cost, and a high density of turbines can increase the overall land value, which *can* negatively affect property values.\n",
       "* **Aesthetic Impact:** Visual impact from turbines can be a factor, particularly in areas with scenic value.\n",
       "* **Noise and Vibration:**  Turbines generate noise, and some residents are sensitive to this, potentially impacting property values.\n",
       "* **Shadow Flicker:** This is a controversial effect, but some studies suggest it can negatively impact property values, especially in certain geographic locations.\n",
       "* **Changes in Property Characteristics:** Some research suggests that proximity to wind farms can influence the type of property development allowed, potentially leading to less desirable developments.\n",
       "\n",
       "\n",
       "**4. Caveats and Important Considerations**\n",
       "\n",
       "* **Scale Matters:**  The magnitude of the effect is highly dependent on the size of the wind farm. Small, low-density wind farms generally have a less impactful effect than large, high-density installations.\n",
       "* **Location, Location, Location:** As mentioned, this is critical.  The impact is strongest in areas with high residential density and where wind resources are favorable.  In areas with low density and limited wind, the effect is likely to be minimal.\n",
       "* **Property Type:** The impact might vary depending on the type of property.  For example, older homes in areas with high wind activity may be more susceptible to devaluation than newer, more resilient homes.\n",
       "* **Other Local Factors:**  The impact is often intertwined with broader economic trends, zoning regulations, and the overall attractiveness of the region.\n",
       "\n",
       "\n",
       "**5. Recent Developments & Ongoing Research**\n",
       "\n",
       "* **Micro-Scale Analysis:**  Recent research is focusing on analyzing the *local* effect, examining how wind turbine density varies within a neighborhood or community to better understand the nuances of the relationship.\n",
       "* **Modeling Techniques:**  Researchers are using more sophisticated statistical models to disentangle the influence of wind turbines from other factors affecting property values.\n",
       "\n",
       "\n",
       "**Resources for Further Reading:**\n",
       "\n",
       "* **Peer-Reviewed Articles:** You can find a comprehensive list of relevant articles on Google Scholar: [https://scholar.google.com/scholar?hl=en&as_rep=med](https://scholar.google.com/scholar?hl=en&as_rep=med) (Search for terms like \"wind turbine property values,\" \"wind farm impact on housing\", \"wind energy and property values\")\n",
       "* **Meta-Analyses:** (mentioned above – Robert M. Slay, Scherer & Miller, Lee & Cooper).\n",
       "\n",
       "**Disclaimer:** *I am an AI Chatbot and not a real estate expert. This information is for general knowledge and informational purposes only, and does not constitute investment advice. It is essential to consult with qualified professionals for personalized guidance regarding property valuations.*\n",
       "\n",
       "To help me refine my answer and provide even more tailored information, could you tell me:\n",
       "\n",
       "*   **What geographic area are you interested in?** (e.g., a specific state, county, or region?)\n",
       "*   **What type of property are you interested in?** (e.g., single-family homes, condos, etc.?)"
      ],
      "text/plain": [
       "<IPython.core.display.Markdown object>"
      ]
     },
     "metadata": {},
     "output_type": "display_data"
    }
   ],
   "source": [
    "complex_extended = \" Answer based on empirical evidence, preferably from peer-reviewed studies meta-analyses.\"\n",
    "\n",
    "# Extending the complex  question\n",
    "response_complex_extended = chat(model='gemma3:1b', messages=[\n",
    "  {    'role': 'user', 'content': complex_content + complex_extended, },])\n",
    "\n",
    "display(Markdown(response_complex_extended.message.content))"
   ]
  },
  {
   "cell_type": "markdown",
   "id": "17c346c7",
   "metadata": {},
   "source": [
    "### Result: Still hallucinating, also not entirely following the instructions. Now giving data (RAG) to the LLM"
   ]
  },
  {
   "cell_type": "markdown",
   "id": "789c2160",
   "metadata": {},
   "source": [
    "## Scientific Article:\n",
    "\n",
    "A key concern for property owners about the set up of proximate wind turbines is the\n",
    "potential devaluation of their property. However, there is no consensus in the empirical\n",
    "hedonic literature estimating this price-distance relationship. It remains unclear if the proximity\n",
    "to wind turbines reduces, increases, or has no significant effect on property values.\n",
    "This article addresses this ambiguity, combining 720 estimates from 25 hedonic pricing\n",
    "studies in a first comprehensive meta-analysis on this topic. Using Bayesian model averaging\n",
    "techniques and novel publication bias correction methods, I calculate an average of\n",
    "the reported estimates that is free from misspecification and publication bias. In economic\n",
    "terms, I find an average reduction in property values of −0.68% for properties 1.89 miles\n",
    "away, which turns to zero beyond 2.8 miles. Next to publication selection, the studies’ ability\n",
    "to control for confounding factors such as pre-existing price differentials and spatial\n",
    "effects explains the variance in reported effect sizes."
   ]
  },
  {
   "cell_type": "code",
   "execution_count": 36,
   "id": "844d9d28",
   "metadata": {},
   "outputs": [
    {
     "data": {
      "text/markdown": [
       "Okay, let's analyze this article and address the question of whether wind turbines influence residential property values.\n",
       "\n",
       "**Overall Effect:** The article suggests a statistically significant, but modest, negative impact on property values – a reduction of approximately 0.68% for properties within 1.89 miles of a wind turbine, with this effect diminishing beyond 2.8 miles.\n",
       "\n",
       "Here’s a breakdown of the key influencing factors, based on the article's findings and economic principles:\n",
       "\n",
       "*   **Proximity is the Primary Driver:**  The primary impact observed is a statistically significant, though relatively small, reduction in property values as the distance to the wind turbine increases. This suggests that proximity is a crucial determinant of property value, with residential properties exhibiting a negative correlation.\n",
       "*   **Magnitude of the Effect Depends on Distance:** The impact isn’t uniform across all properties. The effect appears to be more pronounced within a 1.89-mile radius, decreasing with distance, and subsequently vanishing beyond 2.8 miles. This points to a threshold effect – proximity to the turbine has a stronger influence at closer distances.\n",
       "*   **Publication Bias and Study Variability:**  The authors acknowledge that the studies’ results are influenced by publication bias (studies with stronger findings tend to be more published) and the potential for confounding factors (like pre-existing differences in property value and location characteristics) which contributes to the observed variance in reported effect sizes.  These factors suggest the observed effect might be driven by a combination of inherent property value characteristics and the specific environmental effects of wind turbines rather than a direct, causal link.\n",
       "\n",
       "**Disclaimer:** It’s crucial to note that this is based solely on the provided text and doesn't constitute a rigorous economic analysis. A full economic evaluation would involve more comprehensive modeling, including regression analysis and consideration of other relevant factors. \n",
       "\n",
       "Do you want me to elaborate on any of these points, perhaps discuss potential confounding factors or the limitations of this study's methodology?"
      ],
      "text/plain": [
       "<IPython.core.display.Markdown object>"
      ]
     },
     "metadata": {},
     "output_type": "display_data"
    }
   ],
   "source": [
    "context=\"\"\" #Context:\n",
    "You are given a scientific article about the impact of wind turbines on property values.\n",
    " Use this article to answer the question.\n",
    "\n",
    " # 'Scientific Article':\n",
    "{{\n",
    "A key concern for property owners about the set up of proximate wind turbines is the\n",
    "potential devaluation of their property. However, there is no consensus in the empirical\n",
    "hedonic literature estimating this price-distance relationship. It remains unclear if the proximity\n",
    "to wind turbines reduces, increases, or has no significant effect on property values.\n",
    "This article addresses this ambiguity, combining 720 estimates from 25 hedonic pricing\n",
    "studies in a first comprehensive meta-analysis on this topic. Using Bayesian model averaging\n",
    "techniques and novel publication bias correction methods, I calculate an average of\n",
    "the reported estimates that is free from misspecification and publication bias. In economic\n",
    "terms, I find an average reduction in property values of −0.68% for properties 1.89 miles\n",
    "away, which turns to zero beyond 2.8 miles. Next to publication selection, the studies’ ability\n",
    "to control for confounding factors such as pre-existing price differentials and spatial\n",
    "effects explains the variance in reported effect sizes.}}\n",
    "\"\"\"\n",
    "\n",
    "# Extending the complex  question\n",
    "response_complex_engineered_context = chat(model='gemma3:1b', messages=[\n",
    "  {    'role': 'user', 'content': complex_content + complex_engineered + context, },])\n",
    "\n",
    "display(Markdown(response_complex_engineered_context.message.content))"
   ]
  },
  {
   "cell_type": "markdown",
   "id": "f74e624f",
   "metadata": {},
   "source": [
    "correct, but still not exactly following the instruction.\n",
    "## Switching to a different LLM"
   ]
  },
  {
   "cell_type": "code",
   "execution_count": null,
   "id": "e7f477ab",
   "metadata": {},
   "outputs": [],
   "source": [
    "# Example of a simple question\n",
    "response_easy = chat(model='llama3.1:8b', messages=[\n",
    "  {    'role': 'user', 'content': deterministic_content, }])\n",
    "\n",
    "# Example of an ambiguous question\n",
    "response_ambiguous = chat(model='llama3.1:8b', messages=[\n",
    "  {    'role': 'user', 'content': ambiguous_content, },])\n",
    "# Example of a complex question\n",
    "response_complex = chat(model='llama3.1:8b', messages=[\n",
    "    {   'role': 'user', 'content': complex_content,}])\n",
    "\n"
   ]
  },
  {
   "cell_type": "markdown",
   "id": "fb346050",
   "metadata": {},
   "source": [
    "taking way longer: 52. sec for gemma3:1b vs. 7  min for llama3.1:8b --> 7 times the duration"
   ]
  },
  {
   "cell_type": "code",
   "execution_count": 39,
   "id": "137ae073",
   "metadata": {},
   "outputs": [
    {
     "data": {
      "text/markdown": [
       "1000 * 55 = 55000."
      ],
      "text/plain": [
       "<IPython.core.display.Markdown object>"
      ]
     },
     "metadata": {},
     "output_type": "display_data"
    },
    {
     "data": {
      "text/markdown": [
       "Determining the most powerful character in the Star Wars universe can be subjective and depends on how one interprets power. However, several characters are often considered among the most powerful due to their unique abilities or feats they've accomplished within the series.\n",
       "\n",
       "### 1. **The One (also known as \"God\" or \"Creator\")**\n",
       "\n",
       "- **Nature:** The One is essentially the creator of all things in the Star Wars universe, including the Force itself.\n",
       "- **Power Level:** Implied to be limitless, considering it created and governs everything within its realm.\n",
       "- **Limitations:** Its true extent and nature are largely unknown, making it an abstract concept. This could make it difficult to measure or compare against other characters directly.\n",
       "\n",
       "### 2. **The Force Lords**\n",
       "\n",
       "- **Nature:** Force Lords, such as the Emperor Palpatine, have demonstrated mastery over the dark side of the Force that allows them considerable power and influence.\n",
       "- **Power Level:** Capable of powerful feats such as creating life through the Force, telekinesis on a large scale, manipulation of environments, and more. They are among the most powerful beings in the Star Wars universe.\n",
       "\n",
       "### 3. **The Chosen One (Anakin Skywalker/Darth Vader)**\n",
       "\n",
       "- **Nature:** A central figure in the series who has transitioned from being a hero to one of the most infamous villains.\n",
       "- **Power Level:** Skilled in both the light and dark sides, Anakin's abilities were unparalleled among his contemporaries. He was capable of feats such as holding back an entire army with the Force.\n",
       "\n",
       "### 4. **Mace Windu**\n",
       "\n",
       "- **Nature:** A senior member of the Jedi Council and a skilled warrior.\n",
       "- **Power Level:** Demonstrated mastery over Vaapad, a rare and dangerous form of lightsaber combat that is difficult to learn and control.\n",
       "\n",
       "### 5. **Yoda**\n",
       "\n",
       "- **Nature:** An ancient, wise Jedi Master who wields significant power through his understanding of the Force.\n",
       "- **Power Level:** Demonstrates mastery in telekinesis, telepathy, and other aspects of the Force, showcasing abilities that are rare among even the most skilled Jedi.\n",
       "\n",
       "Determining who is the \"most powerful\" can vary depending on how one weighs different types of powers or accomplishments. The One/Creator stands out due to its unparalleled creation and governance of the universe but remains abstract in nature."
      ],
      "text/plain": [
       "<IPython.core.display.Markdown object>"
      ]
     },
     "metadata": {},
     "output_type": "display_data"
    },
    {
     "data": {
      "text/markdown": [
       "Research on the impact of wind turbines on residential property values has produced mixed results, and opinions are often divided. Here's a summary:\n",
       "\n",
       "**Positive effects:**\n",
       "\n",
       "1. **Renewable energy source**: Wind turbines can be seen as a desirable feature for environmentally conscious homebuyers, who value the renewable energy generated by these turbines.\n",
       "2. **Increased property value**: Studies have suggested that wind turbines may increase property values in some areas, particularly where there is strong public support for wind power and minimal visual impact on nearby properties.\n",
       "3. **Energy independence**: Homeowners with wind turbines can save money on their electricity bills, which may offset the initial investment cost of purchasing a home with a turbine.\n",
       "\n",
       "**Negative effects:**\n",
       "\n",
       "1. **Visual impact**: The installation of wind turbines near residential areas can create aesthetic concerns, potentially leading to decreased property values for nearby homes.\n",
       "2. **Noise pollution**: Some residents have expressed concern about noise generated by wind turbines, which may negatively impact property values.\n",
       "3. **Lack of transparency and local opposition**: When wind turbine projects are not properly disclosed or lack community involvement, it can lead to a negative perception among neighbors, resulting in decreased property values.\n",
       "\n",
       "**Evidence from studies:**\n",
       "\n",
       "1. A study published in the Journal of Environmental Economics (2014) analyzed data from 14,000 homes near wind turbines and found that nearby property values declined by approximately 3-5%.\n",
       "2. Another study published in the International Review of Research in Open and Distributed Learning (2016) reported that a small percentage of respondents believed their property value had increased due to the presence of wind turbines.\n",
       "3. A review of literature on the topic, published in the Journal of Sustainable Energy (2020), concluded that the impact of wind turbines on residential property values is often negligible or variable.\n",
       "\n",
       "**Regional and situational factors:**\n",
       "\n",
       "The influence of wind turbines on residential property values can vary significantly depending on:\n",
       "\n",
       "1. **Geographic location**: The effect may be more pronounced in areas with high visibility, noise concerns, or limited scenic value.\n",
       "2. **Turbine placement and design**: Well-placed turbines that minimize visual impact and are designed to reduce noise levels may have less of a negative effect on property values.\n",
       "3. **Local policies and regulations**: Supportive local policies and regulations can help mitigate potential issues related to wind turbine installation.\n",
       "\n",
       "In conclusion, the relationship between wind turbines and residential property values is complex and influenced by various factors. While some studies suggest that wind turbines may decrease property values due to visual impact or noise concerns, others indicate a negligible effect or even an increase in value for environmentally conscious buyers. A thorough examination of local conditions and policies is essential to understand the potential influence on property values.\n",
       "\n",
       "References:\n",
       "\n",
       "* National Renewable Energy Laboratory (NREL) - \"Wind Turbine Property Values Study\"\n",
       "* Journal of Environmental Economics (2014) - \"The Impact of Wind Farms on Residential Property Values\"\n",
       "* International Review of Research in Open and Distributed Learning (2016) - \"Exploring the Relationship between Wind Power and Real Estate Value\"\n",
       "* Journal of Sustainable Energy (2020) - \"Wind Turbines and Property Values: A Systematic Review\""
      ],
      "text/plain": [
       "<IPython.core.display.Markdown object>"
      ]
     },
     "metadata": {},
     "output_type": "display_data"
    }
   ],
   "source": [
    "display(Markdown(response_easy.message.content))\n",
    "display(Markdown(response_ambiguous.message.content))\n",
    "display(Markdown(response_complex.message.content))"
   ]
  },
  {
   "cell_type": "code",
   "execution_count": 40,
   "id": "b95fc4f4",
   "metadata": {},
   "outputs": [
    {
     "data": {
      "text/markdown": [
       "The impact of wind turbines on residential property values.\n",
       "\n",
       "A study published in the Journal of Environmental Economics estimated that, on average, wind turbines reduce nearby property values by about 7-12% within a radius of 1-2 kilometers (approximately 0.6-1.2 miles).\n",
       "\n",
       "Here are the key influencing factors:\n",
       "\n",
       "* **Distance**: The closer a residential property is to a wind turbine, the greater the negative impact on property value. This effect diminishes as distance increases.\n",
       "* **Turbine size and noise level**: Larger turbines with higher noise levels tend to have a more significant negative impact on nearby property values.\n",
       "* **Aesthetic and visual concerns**: Residents may object to the visual appearance of wind turbines, particularly if they are not adequately screened or sited in areas that are highly visible from their homes."
      ],
      "text/plain": [
       "<IPython.core.display.Markdown object>"
      ]
     },
     "metadata": {},
     "output_type": "display_data"
    }
   ],
   "source": [
    "# Extending the complex  question\n",
    "response_complex_engineered = chat(model='llama3.1:8b', messages=[\n",
    "  {    'role': 'user', 'content': complex_content + complex_engineered, },])\n",
    "\n",
    "display(Markdown(response_complex_engineered.message.content))"
   ]
  },
  {
   "cell_type": "code",
   "execution_count": 5,
   "id": "b2ab0575",
   "metadata": {},
   "outputs": [
    {
     "data": {
      "text/markdown": [
       " The result of multiplying 1000 by 55 is 55,000."
      ],
      "text/plain": [
       "<IPython.core.display.Markdown object>"
      ]
     },
     "metadata": {},
     "output_type": "display_data"
    },
    {
     "data": {
      "text/markdown": [
       " In the Star Wars universe, there isn't a definitive answer as to who the most powerful character is, as power can be defined in various ways such as physical strength, intelligence, force sensitivity, or political influence. However, here are some of the most powerful characters:\n",
       "\n",
       "1. Darth Vader (Anakin Skywalker) - Initially a Jedi Knight and eventually one of the most feared Sith Lords, Anakin Skywalker, later known as Darth Vader, is one of the most iconic and powerful characters in Star Wars due to his mastery over the Force.\n",
       "\n",
       "2. Emperor Palpatine - The Supreme Leader of the Galactic Empire, Palpatine was a dark side Sith Lord who manipulated events to rise to power and ultimately served as the main antagonist throughout the original trilogy. He is also responsible for turning Anakin Skywalker to the dark side.\n",
       "\n",
       "3. Yoda - A legendary Jedi Master and the wisest of all Jedi, Yoda was renowned for his exceptional knowledge of the Force and his ability to harness it in unique ways. Despite his small size, he was a formidable opponent in combat and played a crucial role in guiding the Jedi Order and training many of its members.\n",
       "\n",
       "4. Luke Skywalker - Originally a farm boy from Tatooine, Luke became a powerful Jedi Knight under the tutelage of Yoda and Obi-Wan Kenobi. He played a significant role in defeating both the Empire and Palpatine and restoring peace to the galaxy.\n",
       "\n",
       "5. Rey - A scavenger from Jakku, Rey quickly proved herself to be an incredibly powerful Force user, showing remarkable skills in combat and demonstrating a deep connection to the Force that allowed her to tap into its power effortlessly. She eventually became a Jedi Knight and helped bring balance back to the Force alongside Ben Solo (Kylo Ren).\n",
       "\n",
       "Each of these characters possesses unique abilities and influences that make them powerful within the Star Wars universe, but their power can vary depending on the context in which they are evaluated."
      ],
      "text/plain": [
       "<IPython.core.display.Markdown object>"
      ]
     },
     "metadata": {},
     "output_type": "display_data"
    },
    {
     "data": {
      "text/markdown": [
       " The impact of wind turbines on residential property values can be complex and varied, depending on several factors such as location, distance from the turbines, visual appeal, noise levels, and potential benefits like lower electricity bills.\n",
       "\n",
       "In general, research suggests that well-designed and properly located wind farms may have minimal to no negative impact on property values. However, if wind turbines are perceived as a nuisance due to noise, shadow flicker, or aesthetic concerns, they could potentially decrease property values in nearby areas.\n",
       "\n",
       "It's essential to note that the specific impacts can vary greatly depending on the local context and the wind farm's design. A comprehensive study by the National Renewable Energy Laboratory (NREL) found that negative effects were most likely when turbines were located within 1.25 miles of a property, while the positive impact of lower energy bills might help offset any decrease in value for properties farther away from the wind farm.\n",
       "\n",
       "In some cases, there may also be a premium placed on properties near wind farms due to factors like cleaner air, reduced reliance on traditional fossil fuels, and community benefits such as tax revenue or local economic development.\n",
       "\n",
       "Overall, it's crucial to consider each individual case when examining the relationship between wind turbines and residential property values. Proper communication, planning, and mitigation measures can help minimize potential negative effects while maximizing benefits for all stakeholders involved."
      ],
      "text/plain": [
       "<IPython.core.display.Markdown object>"
      ]
     },
     "metadata": {},
     "output_type": "display_data"
    }
   ],
   "source": [
    "# Example of a simple question\n",
    "response_easy = chat(model='mistral:7b', messages=[\n",
    "  {    'role': 'user', 'content': deterministic_content, }])\n",
    "\n",
    "# Example of an ambiguous question\n",
    "response_ambiguous = chat(model='mistral:7b', messages=[\n",
    "  {    'role': 'user', 'content': ambiguous_content, },])\n",
    "# Example of a complex question\n",
    "response_complex = chat(model='mistral:7b', messages=[\n",
    "    {   'role': 'user', 'content': complex_content,}])\n",
    "\n",
    "display(Markdown(response_easy.message.content))\n",
    "display(Markdown(response_ambiguous.message.content))\n",
    "display(Markdown(response_complex.message.content))"
   ]
  },
  {
   "cell_type": "markdown",
   "id": "1ea263b4",
   "metadata": {},
   "source": [
    "### Conclusion \n",
    "The choice of the LLM was not very decisive in these examples. Still, the largest model took considerably longer (7 minutes vs. 1 minute) to come up with the answer.\n",
    "\n",
    "RAG was necessary for the complex query to get correct responses.\n",
    "\n",
    "Prompt engineering was sufficient to get better results for the opinion on Star Wars."
   ]
  }
 ],
 "metadata": {
  "kernelspec": {
   "display_name": "Python 3",
   "language": "python",
   "name": "python3"
  },
  "language_info": {
   "codemirror_mode": {
    "name": "ipython",
    "version": 3
   },
   "file_extension": ".py",
   "mimetype": "text/x-python",
   "name": "python",
   "nbconvert_exporter": "python",
   "pygments_lexer": "ipython3",
   "version": "3.12.1"
  }
 },
 "nbformat": 4,
 "nbformat_minor": 5
}
