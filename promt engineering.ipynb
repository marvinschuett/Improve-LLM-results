{
 "cells": [
  {
   "cell_type": "markdown",
   "id": "27477f64",
   "metadata": {},
   "source": [
    "## Prompt engieneering\n",
    "\n"
   ]
  },
  {
   "cell_type": "code",
   "execution_count": 5,
   "id": "455f3eb5",
   "metadata": {},
   "outputs": [
    {
     "name": "stdout",
     "output_type": "stream",
     "text": [
      "That's a fantastic and endlessly debated question! There's no *single* definitive answer to who the most powerful character is in Star Wars, as \"power\" can be measured in different ways. However, **Grand Admiral Thrawn** is overwhelmingly considered the most powerful character in the Star Wars saga, and for good reason.\n",
      "\n",
      "Here's a breakdown of why, and why other contenders exist:\n",
      "\n",
      "**Why Thrawn is Considered the Most Powerful:**\n",
      "\n",
      "* **Genius-Level Intelligence:** Thrawn is arguably the smartest being in the entire Star Wars universe. He possesses a deep understanding of strategy, history, and psychology that far surpasses even the most brilliant Jedi and Sith commanders.\n",
      "* **Master Strategist:** He’s renowned for his incredibly complex and incredibly precise strategies. He can anticipate moves, identify weaknesses, and manipulate situations with unnerving accuracy. He’s often referred to as “The Strategist.”\n",
      "* **Temporal Manipulation:** Thrawn’s ability to subtly influence events through time – particularly his “time echoes” – is arguably his greatest weapon. He can alter timelines, create strategic advantages, and even erase entire armies.\n",
      "* **Unwavering Discipline:** He's utterly ruthless and disciplined. He doesn't show emotion, and his decisions are always calculated and logical, even in the face of overwhelming odds.\n",
      "* **Military Superiority:** He’s a truly formidable military leader, consistently outmaneuvering and defeating his opponents with meticulous planning and cold calculation.\n",
      "\n",
      "\n",
      "**Other Strong Contenders & Why They're Important:**\n",
      "\n",
      "* **Luke Skywalker:**  His mastery of the Force, his combat skills (especially with lightsabers), and his capacity for great heroism make him incredibly powerful.  However, his power is tied to his connection to the Force and his potential for growth.\n",
      "* **Darth Vader:**  His sheer presence as a Sith Lord, his connection to the Dark Side, and his ability to corrupt and control powerful beings make him a formidable threat. However, his power is inherently tied to his dark side influence.\n",
      "* **The Force:**  As a fundamental force, the Force itself can be incredibly powerful. However, it’s a passive force, requiring a user to connect with it and channel it, whereas Thrawn has the *ability* to manipulate and control it.\n",
      "* **Yoda:**  A master of the Force, and incredibly skilled in combat and strategy, Yoda possesses a deep understanding of ancient knowledge and a powerful connection to the Force.  However, his power is somewhat more reliant on his mental acuity and experience than physical capabilities.\n",
      "\n",
      "**In conclusion, while many characters possess impressive abilities, Thrawn’s combination of unparalleled intelligence, strategic prowess, and mastery of temporal manipulation puts him at the pinnacle of power in the Star Wars universe.**\n",
      "\n",
      "\n",
      "**Resources for deeper dives:**\n",
      "\n",
      "*   **Wikipedia - Thrawn:** [https://en.wikipedia.org/wiki/Grand_Admiral_Thrawn](https://en.wikipedia.org/wiki/Grand_Admiral_Thrawn)\n",
      "*   **Star Wars Lore Articles:** Many articles on Star Wars lore discuss Thrawn's significance. \n",
      "\n",
      "To give you a more tailored response, could you tell me:\n",
      "\n",
      "*   **What specifically about \"power\" are you most interested in?** (e.g., raw strength, strategic thinking, influence, etc.)\n"
     ]
    }
   ],
   "source": [
    "# %pip install ollama\n",
    "from ollama import chat\n",
    "\n",
    "response = chat(model='gemma3:1b', messages=[\n",
    "  {\n",
    "    'role': 'user',\n",
    "    'content': 'Who ist the most pwerful character in Star Wars?',\n",
    "  },\n",
    "])\n",
    "# notice your exact answer could be different due to some random processes in the model (learn about that later)\n",
    "print(response.message.content)"
   ]
  }
 ],
 "metadata": {
  "kernelspec": {
   "display_name": "Python 3",
   "language": "python",
   "name": "python3"
  },
  "language_info": {
   "codemirror_mode": {
    "name": "ipython",
    "version": 3
   },
   "file_extension": ".py",
   "mimetype": "text/x-python",
   "name": "python",
   "nbconvert_exporter": "python",
   "pygments_lexer": "ipython3",
   "version": "3.12.1"
  }
 },
 "nbformat": 4,
 "nbformat_minor": 5
}
